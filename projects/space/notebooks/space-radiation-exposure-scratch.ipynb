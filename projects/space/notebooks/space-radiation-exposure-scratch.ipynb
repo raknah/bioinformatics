{
 "cells": [
  {
   "cell_type": "markdown",
   "id": "65ebe216",
   "metadata": {},
   "source": [
    "# Transcriptomics Scratch Pad"
   ]
  },
  {
   "cell_type": "code",
   "execution_count": 91,
   "id": "3e6be52b",
   "metadata": {},
   "outputs": [],
   "source": [
    "using DataFrames, CSV, Statistics, CairoMakie\n",
    "\n",
    "include(\"/Users/fomo/Documents/Kaizen/code/bioinformatics/modules/Plotify.jl\")\n",
    "include(\"/Users/fomo/Documents/Kaizen/code/bioinformatics/modules/GeoPreprocess.jl\")\n",
    "\n",
    "nothing"
   ]
  },
  {
   "cell_type": "markdown",
   "id": "641f9c3a",
   "metadata": {},
   "source": [
    "## Preprocessing"
   ]
  },
  {
   "cell_type": "code",
   "execution_count": 81,
   "id": "7bc39ff0",
   "metadata": {},
   "outputs": [
    {
     "data": {
      "text/html": [
       "<div><div style = \"float: left;\"><span>5×4 DataFrame</span></div><div style = \"clear: both;\"></div></div><div class = \"data-frame\" style = \"overflow-x: scroll;\"><table class = \"data-frame\" style = \"margin-bottom: 6px;\"><thead><tr class = \"header\"><th class = \"rowNumber\" style = \"font-weight: bold; text-align: right;\">Row</th><th style = \"text-align: left;\">GSM_ID</th><th style = \"text-align: left;\">Title</th><th style = \"text-align: left;\">Source</th><th style = \"text-align: left;\">Characteristics</th></tr><tr class = \"subheader headerLastRow\"><th class = \"rowNumber\" style = \"font-weight: bold; text-align: right;\"></th><th title = \"String15\" style = \"text-align: left;\">String15</th><th title = \"String31\" style = \"text-align: left;\">String31</th><th title = \"String31\" style = \"text-align: left;\">String31</th><th title = \"String\" style = \"text-align: left;\">String</th></tr></thead><tbody><tr><td class = \"rowNumber\" style = \"font-weight: bold; text-align: right;\">1</td><td style = \"text-align: left;\">GSM1220792</td><td style = \"text-align: left;\">695_EV_0hr</td><td style = \"text-align: left;\">hOB695_shEV_0hr</td><td style = \"text-align: left;\">cell line: Normal bone cell line 695; phenotype: Parental; cell type: human osteoblast (hOB)</td></tr><tr><td class = \"rowNumber\" style = \"font-weight: bold; text-align: right;\">2</td><td style = \"text-align: left;\">GSM1220793</td><td style = \"text-align: left;\">695-EV_2hr</td><td style = \"text-align: left;\">hOB695_shEV_2hr_IR</td><td style = \"text-align: left;\">cell line: Normal bone cell line 695; phenotype: Parental; cell type: human osteoblast (hOB)</td></tr><tr><td class = \"rowNumber\" style = \"font-weight: bold; text-align: right;\">3</td><td style = \"text-align: left;\">GSM1220794</td><td style = \"text-align: left;\">695-EV_4hr</td><td style = \"text-align: left;\">hOB695_shEV_4hr_IR</td><td style = \"text-align: left;\">cell line: Normal bone cell line 695; phenotype: Parental; cell type: human osteoblast (hOB)</td></tr><tr><td class = \"rowNumber\" style = \"font-weight: bold; text-align: right;\">4</td><td style = \"text-align: left;\">GSM1220795</td><td style = \"text-align: left;\">695-EV_8hr</td><td style = \"text-align: left;\">hOB695_shEV_8hr_IR</td><td style = \"text-align: left;\">cell line: Normal bone cell line 695; phenotype: Parental; cell type: human osteoblast (hOB)</td></tr><tr><td class = \"rowNumber\" style = \"font-weight: bold; text-align: right;\">5</td><td style = \"text-align: left;\">GSM1220796</td><td style = \"text-align: left;\">695-EV_16hr</td><td style = \"text-align: left;\">hOB695_shEV_16hr_IR</td><td style = \"text-align: left;\">cell line: Normal bone cell line 695; phenotype: Parental; cell type: human osteoblast (hOB)</td></tr></tbody></table></div>"
      ],
      "text/latex": [
       "\\begin{tabular}{r|cccc}\n",
       "\t& GSM\\_ID & Title & Source & Characteristics\\\\\n",
       "\t\\hline\n",
       "\t& String15 & String31 & String31 & String\\\\\n",
       "\t\\hline\n",
       "\t1 & GSM1220792 & 695\\_EV\\_0hr & hOB695\\_shEV\\_0hr & cell line: Normal bone cell line 695; phenotype: Parental; cell type: human osteoblast (hOB) \\\\\n",
       "\t2 & GSM1220793 & 695-EV\\_2hr & hOB695\\_shEV\\_2hr\\_IR & cell line: Normal bone cell line 695; phenotype: Parental; cell type: human osteoblast (hOB) \\\\\n",
       "\t3 & GSM1220794 & 695-EV\\_4hr & hOB695\\_shEV\\_4hr\\_IR & cell line: Normal bone cell line 695; phenotype: Parental; cell type: human osteoblast (hOB) \\\\\n",
       "\t4 & GSM1220795 & 695-EV\\_8hr & hOB695\\_shEV\\_8hr\\_IR & cell line: Normal bone cell line 695; phenotype: Parental; cell type: human osteoblast (hOB) \\\\\n",
       "\t5 & GSM1220796 & 695-EV\\_16hr & hOB695\\_shEV\\_16hr\\_IR & cell line: Normal bone cell line 695; phenotype: Parental; cell type: human osteoblast (hOB) \\\\\n",
       "\\end{tabular}\n"
      ],
      "text/plain": [
       "\u001b[1m5×4 DataFrame\u001b[0m\n",
       "\u001b[1m Row \u001b[0m│\u001b[1m GSM_ID     \u001b[0m\u001b[1m Title       \u001b[0m\u001b[1m Source              \u001b[0m\u001b[1m Characteristics          \u001b[0m ⋯\n",
       "     │\u001b[90m String15   \u001b[0m\u001b[90m String31    \u001b[0m\u001b[90m String31            \u001b[0m\u001b[90m String                   \u001b[0m ⋯\n",
       "─────┼──────────────────────────────────────────────────────────────────────────\n",
       "   1 │ GSM1220792  695_EV_0hr   hOB695_shEV_0hr      cell line: Normal bone ce ⋯\n",
       "   2 │ GSM1220793  695-EV_2hr   hOB695_shEV_2hr_IR   cell line: Normal bone ce\n",
       "   3 │ GSM1220794  695-EV_4hr   hOB695_shEV_4hr_IR   cell line: Normal bone ce\n",
       "   4 │ GSM1220795  695-EV_8hr   hOB695_shEV_8hr_IR   cell line: Normal bone ce\n",
       "   5 │ GSM1220796  695-EV_16hr  hOB695_shEV_16hr_IR  cell line: Normal bone ce ⋯\n",
       "\u001b[36m                                                                1 column omitted\u001b[0m"
      ]
     },
     "metadata": {},
     "output_type": "display_data"
    }
   ],
   "source": [
    "master = \"../data/GEO\"\n",
    "geos = readdir(master)\n",
    "meta = CSV.read(joinpath(master, geos[2], \"metadata.csv\"), DataFrame)\n",
    "\n",
    "first(meta, 5)"
   ]
  },
  {
   "cell_type": "code",
   "execution_count": 98,
   "id": "450e4626",
   "metadata": {},
   "outputs": [
    {
     "data": {
      "text/plain": [
       "parse_gse50532 (generic function with 1 method)"
      ]
     },
     "metadata": {},
     "output_type": "display_data"
    }
   ],
   "source": [
    "function parse_gse50532(raw::DataFrame)\n",
    "    # 1) Derive control vs irradiated\n",
    "    raw.group = ifelse.(occursin.(\"_IR\", raw.Source),\n",
    "                        \"irradiated\",\n",
    "                        \"control\")\n",
    "\n",
    "    # 2) Extract the number before “hr” via match\n",
    "    raw.time_hr = [ begin\n",
    "        m = match(r\"_(\\d+)hr\", title)\n",
    "        m === nothing ? missing : parse(Float64, m.captures[1])\n",
    "      end\n",
    "      for title in raw.Source\n",
    "    ]\n",
    "\n",
    "    # 3) Return only the columns you need\n",
    "    return select(raw,\n",
    "                  [:GSM_ID, :group, :time_hr, :cell_type])\n",
    "end\n"
   ]
  },
  {
   "cell_type": "code",
   "execution_count": 99,
   "id": "99f252f3",
   "metadata": {},
   "outputs": [
    {
     "ename": "ArgumentError",
     "evalue": "ArgumentError: column name :cell_type not found in the data frame",
     "output_type": "error",
     "traceback": [
      "ArgumentError: column name :cell_type not found in the data frame\n",
      "\n",
      "Stacktrace:\n",
      "  [1] lookupname\n",
      "    @ ~/.julia/packages/DataFrames/kcA9R/src/other/index.jl:431 [inlined]\n",
      "  [2] getindex\n",
      "    @ ~/.julia/packages/DataFrames/kcA9R/src/other/index.jl:440 [inlined]\n",
      "  [3] (::DataFrames.var\"#35#36\"{DataFrames.Index})(i::Symbol)\n",
      "    @ DataFrames ./none:0\n",
      "  [4] iterate\n",
      "    @ ./generator.jl:48 [inlined]\n",
      "  [5] collect_to!\n",
      "    @ ./array.jl:849 [inlined]\n",
      "  [6] collect_to_with_first!\n",
      "    @ ./array.jl:827 [inlined]\n",
      "  [7] collect(itr::Base.Generator{Vector{Symbol}, DataFrames.var\"#35#36\"{DataFrames.Index}})\n",
      "    @ Base ./array.jl:801\n",
      "  [8] getindex\n",
      "    @ ~/.julia/packages/DataFrames/kcA9R/src/other/index.jl:446 [inlined]\n",
      "  [9] #manipulate#598\n",
      "    @ ~/.julia/packages/DataFrames/kcA9R/src/abstractdataframe/selection.jl:1841 [inlined]\n",
      " [10] manipulate\n",
      "    @ ~/.julia/packages/DataFrames/kcA9R/src/abstractdataframe/selection.jl:1835 [inlined]\n",
      " [11] select\n",
      "    @ ~/.julia/packages/DataFrames/kcA9R/src/abstractdataframe/selection.jl:1303 [inlined]\n",
      " [12] parse_gse50532(raw::DataFrame)\n",
      "    @ Main ~/Documents/Kaizen/code/bioinformatics/projects/space/notebooks/jl_notebook_cell_df34fa98e69747e1a8f8a730347b8e2f_X30sZmlsZQ==.jl:16\n",
      " [13] top-level scope\n",
      "    @ ~/Documents/Kaizen/code/bioinformatics/projects/space/notebooks/jl_notebook_cell_df34fa98e69747e1a8f8a730347b8e2f_X33sZmlsZQ==.jl:1"
     ]
    }
   ],
   "source": [
    "meta = parse_gse50532(meta)"
   ]
  },
  {
   "cell_type": "code",
   "execution_count": 94,
   "id": "f15f0e23",
   "metadata": {},
   "outputs": [
    {
     "ename": "ErrorException",
     "evalue": "type RegexMatchIterator has no field captures",
     "output_type": "error",
     "traceback": [
      "type RegexMatchIterator has no field captures\n",
      "\n",
      "Stacktrace:\n",
      " [1] getproperty\n",
      "   @ ./Base.jl:49 [inlined]\n",
      " [2] (::var\"#84#85\")(m::Base.RegexMatchIterator{String})\n",
      "   @ Main ./none:0\n",
      " [3] iterate\n",
      "   @ ./generator.jl:48 [inlined]\n",
      " [4] collect(itr::Base.Generator{Vector{Base.RegexMatchIterator{String}}, var\"#84#85\"})\n",
      "   @ Base ./array.jl:791\n",
      " [5] parse_gse50532(raw::DataFrame)\n",
      "   @ Main ~/Documents/Kaizen/code/bioinformatics/projects/space/notebooks/jl_notebook_cell_df34fa98e69747e1a8f8a730347b8e2f_X30sZmlsZQ==.jl:8\n",
      " [6] preprocess_metadata(name::String; basepath::String, processed_name::String, parser::typeof(parse_gse50532))\n",
      "   @ Main ~/Documents/Kaizen/code/bioinformatics/modules/GeoPreprocess.jl:61\n",
      " [7] load_GSE(name::String; basepath::String, parser::Function)\n",
      "   @ Main ~/Documents/Kaizen/code/bioinformatics/modules/GeoPreprocess.jl:81\n",
      " [8] top-level scope\n",
      "   @ ~/Documents/Kaizen/code/bioinformatics/projects/space/notebooks/jl_notebook_cell_df34fa98e69747e1a8f8a730347b8e2f_X31sZmlsZQ==.jl:1"
     ]
    }
   ],
   "source": [
    "gse50532 = load_GSE(\n",
    "    \"GSE50532\";\n",
    "    basepath = master,\n",
    "    parser = parse_gse50532\n",
    ")"
   ]
  },
  {
   "cell_type": "code",
   "execution_count": null,
   "id": "a56d3393",
   "metadata": {},
   "outputs": [],
   "source": []
  }
 ],
 "metadata": {
  "kernelspec": {
   "display_name": "Julia 1.11.5",
   "language": "julia",
   "name": "julia-1.11"
  },
  "language_info": {
   "file_extension": ".jl",
   "mimetype": "application/julia",
   "name": "julia",
   "version": "1.11.5"
  }
 },
 "nbformat": 4,
 "nbformat_minor": 5
}
