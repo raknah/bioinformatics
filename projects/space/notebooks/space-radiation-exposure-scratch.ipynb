{
 "cells": [
  {
   "cell_type": "markdown",
   "id": "65ebe216",
   "metadata": {},
   "source": [
    "# Transcriptomics Scratch Pad"
   ]
  },
  {
   "cell_type": "code",
   "execution_count": 101,
   "id": "3e6be52b",
   "metadata": {},
   "outputs": [],
   "source": [
    "using DataFrames, CSV, Statistics, CairoMakie\n",
    "\n",
    "include(\"/Users/fomo/Documents/Kaizen/code/bioinformatics/modules/Plotify.jl\")\n",
    "include(\"/Users/fomo/Documents/Kaizen/code/bioinformatics/modules/GeoPreprocess.jl\")\n",
    "\n",
    "nothing"
   ]
  },
  {
   "cell_type": "markdown",
   "id": "641f9c3a",
   "metadata": {},
   "source": [
    "## Preprocessing"
   ]
  },
  {
   "cell_type": "code",
   "execution_count": 100,
   "id": "7bc39ff0",
   "metadata": {},
   "outputs": [
    {
     "data": {
      "text/html": [
       "<div><div style = \"float: left;\"><span>5×4 DataFrame</span></div><div style = \"clear: both;\"></div></div><div class = \"data-frame\" style = \"overflow-x: scroll;\"><table class = \"data-frame\" style = \"margin-bottom: 6px;\"><thead><tr class = \"header\"><th class = \"rowNumber\" style = \"font-weight: bold; text-align: right;\">Row</th><th style = \"text-align: left;\">GSM_ID</th><th style = \"text-align: left;\">Title</th><th style = \"text-align: left;\">Source</th><th style = \"text-align: left;\">Characteristics</th></tr><tr class = \"subheader headerLastRow\"><th class = \"rowNumber\" style = \"font-weight: bold; text-align: right;\"></th><th title = \"String15\" style = \"text-align: left;\">String15</th><th title = \"String31\" style = \"text-align: left;\">String31</th><th title = \"String\" style = \"text-align: left;\">String</th><th title = \"String\" style = \"text-align: left;\">String</th></tr></thead><tbody><tr><td class = \"rowNumber\" style = \"font-weight: bold; text-align: right;\">1</td><td style = \"text-align: left;\">GSM1569806</td><td style = \"text-align: left;\">Blood-0.0Gy-1hr-rep1</td><td style = \"text-align: left;\">blood, isolated leukocytes, 0.0 Gy radiation, 1hr post-exposure</td><td style = \"text-align: left;\">volunteer: 1; radiation dose: 0.0 Gy; time: 1 hr; tissue: blood, isolated leukocytes</td></tr><tr><td class = \"rowNumber\" style = \"font-weight: bold; text-align: right;\">2</td><td style = \"text-align: left;\">GSM1569807</td><td style = \"text-align: left;\">Blood-0.0Gy-1hr-rep2</td><td style = \"text-align: left;\">blood, isolated leukocytes, 0.0 Gy radiation, 1hr post-exposure</td><td style = \"text-align: left;\">volunteer: 2; radiation dose: 0.0 Gy; time: 1 hr; tissue: blood, isolated leukocytes</td></tr><tr><td class = \"rowNumber\" style = \"font-weight: bold; text-align: right;\">3</td><td style = \"text-align: left;\">GSM1569808</td><td style = \"text-align: left;\">Blood-0.0Gy-1hr-rep3</td><td style = \"text-align: left;\">blood, isolated leukocytes, 0.0 Gy radiation, 1hr post-exposure</td><td style = \"text-align: left;\">volunteer: 3; radiation dose: 0.0 Gy; time: 1 hr; tissue: blood, isolated leukocytes</td></tr><tr><td class = \"rowNumber\" style = \"font-weight: bold; text-align: right;\">4</td><td style = \"text-align: left;\">GSM1569809</td><td style = \"text-align: left;\">Blood-0.0Gy-1hr-rep4</td><td style = \"text-align: left;\">blood, isolated leukocytes, 0.0 Gy radiation, 1hr post-exposure</td><td style = \"text-align: left;\">volunteer: 4; radiation dose: 0.0 Gy; time: 1 hr; tissue: blood, isolated leukocytes</td></tr><tr><td class = \"rowNumber\" style = \"font-weight: bold; text-align: right;\">5</td><td style = \"text-align: left;\">GSM1569810</td><td style = \"text-align: left;\">Blood-0.3Gy-1hr-rep1</td><td style = \"text-align: left;\">blood, isolated leukocytes, 0.3 Gy radiation, 1hr post-exposure</td><td style = \"text-align: left;\">volunteer: 1; radiation dose: 0.3 Gy; time: 1 hr; tissue: blood, isolated leukocytes</td></tr></tbody></table></div>"
      ],
      "text/latex": [
       "\\begin{tabular}{r|cccc}\n",
       "\t& GSM\\_ID & Title & Source & \\\\\n",
       "\t\\hline\n",
       "\t& String15 & String31 & String & \\\\\n",
       "\t\\hline\n",
       "\t1 & GSM1569806 & Blood-0.0Gy-1hr-rep1 & blood, isolated leukocytes, 0.0 Gy radiation, 1hr post-exposure & $\\dots$ \\\\\n",
       "\t2 & GSM1569807 & Blood-0.0Gy-1hr-rep2 & blood, isolated leukocytes, 0.0 Gy radiation, 1hr post-exposure & $\\dots$ \\\\\n",
       "\t3 & GSM1569808 & Blood-0.0Gy-1hr-rep3 & blood, isolated leukocytes, 0.0 Gy radiation, 1hr post-exposure & $\\dots$ \\\\\n",
       "\t4 & GSM1569809 & Blood-0.0Gy-1hr-rep4 & blood, isolated leukocytes, 0.0 Gy radiation, 1hr post-exposure & $\\dots$ \\\\\n",
       "\t5 & GSM1569810 & Blood-0.3Gy-1hr-rep1 & blood, isolated leukocytes, 0.3 Gy radiation, 1hr post-exposure & $\\dots$ \\\\\n",
       "\\end{tabular}\n"
      ],
      "text/plain": [
       "\u001b[1m5×4 DataFrame\u001b[0m\n",
       "\u001b[1m Row \u001b[0m│\u001b[1m GSM_ID     \u001b[0m\u001b[1m Title                \u001b[0m\u001b[1m Source                            \u001b[0m\u001b[1m Ch\u001b[0m ⋯\n",
       "     │\u001b[90m String15   \u001b[0m\u001b[90m String31             \u001b[0m\u001b[90m String                            \u001b[0m\u001b[90m St\u001b[0m ⋯\n",
       "─────┼──────────────────────────────────────────────────────────────────────────\n",
       "   1 │ GSM1569806  Blood-0.0Gy-1hr-rep1  blood, isolated leukocytes, 0.0 …  vo ⋯\n",
       "   2 │ GSM1569807  Blood-0.0Gy-1hr-rep2  blood, isolated leukocytes, 0.0 …  vo\n",
       "   3 │ GSM1569808  Blood-0.0Gy-1hr-rep3  blood, isolated leukocytes, 0.0 …  vo\n",
       "   4 │ GSM1569809  Blood-0.0Gy-1hr-rep4  blood, isolated leukocytes, 0.0 …  vo\n",
       "   5 │ GSM1569810  Blood-0.3Gy-1hr-rep1  blood, isolated leukocytes, 0.3 …  vo ⋯\n",
       "\u001b[36m                                                                1 column omitted\u001b[0m"
      ]
     },
     "metadata": {},
     "output_type": "display_data"
    }
   ],
   "source": [
    "master = \"../data/GEO\"\n",
    "geoID = \"GSE64375\"\n",
    "meta = CSV.read(joinpath(master, geoID, \"metadata.csv\"), DataFrame)\n",
    "\n",
    "first(meta, 5)"
   ]
  },
  {
   "cell_type": "code",
   "execution_count": 107,
   "id": "450e4626",
   "metadata": {},
   "outputs": [
    {
     "data": {
      "text/plain": [
       "parse_GSE64375 (generic function with 1 method)"
      ]
     },
     "metadata": {},
     "output_type": "display_data"
    }
   ],
   "source": [
    "function parse_GSE64375(df::DataFrame)\n",
    "    # Prepare a Vector of Dicts, one per row\n",
    "    rows = Vector{Dict{Symbol,Any}}(undef, nrow(df))\n",
    "    \n",
    "    for (i, row) in enumerate(eachrow(df))\n",
    "        # Start each record with the GSM_ID\n",
    "        d = Dict{Symbol,Any}(:GSM_ID => row.GSM_ID)\n",
    "        \n",
    "        # Split the “Characteristics” string on ‘;’\n",
    "        for part in split(row.Characteristics, \";\")\n",
    "            # Split each part into key and value (at most 2 pieces)\n",
    "            kv = split(part, \":\", limit = 2)\n",
    "            if length(kv) == 2\n",
    "                # Normalize the key to a Symbol (spaces → underscores)\n",
    "                key = Symbol(replace(strip(kv[1]), r\"\\s+\" => \"_\"))\n",
    "                # Strip whitespace from the value\n",
    "                d[key] = strip(kv[2])\n",
    "            end\n",
    "        end\n",
    "        \n",
    "        rows[i] = d\n",
    "    end\n",
    "    \n",
    "    # Convert the array of Dicts into a DataFrame\n",
    "    return DataFrame(rows)\n",
    "end"
   ]
  },
  {
   "cell_type": "code",
   "execution_count": 112,
   "id": "a56d3393",
   "metadata": {},
   "outputs": [
    {
     "data": {
      "text/html": [
       "<div><div style = \"float: left;\"><span>16×5 DataFrame</span></div><div style = \"clear: both;\"></div></div><div class = \"data-frame\" style = \"overflow-x: scroll;\"><table class = \"data-frame\" style = \"margin-bottom: 6px;\"><thead><tr class = \"header\"><th class = \"rowNumber\" style = \"font-weight: bold; text-align: right;\">Row</th><th style = \"text-align: left;\">tissue</th><th style = \"text-align: left;\">GSM_ID</th><th style = \"text-align: left;\">volunteer</th><th style = \"text-align: left;\">radiation_dose</th><th style = \"text-align: left;\">time</th></tr><tr class = \"subheader headerLastRow\"><th class = \"rowNumber\" style = \"font-weight: bold; text-align: right;\"></th><th title = \"String31\" style = \"text-align: left;\">String31</th><th title = \"String15\" style = \"text-align: left;\">String15</th><th title = \"Int64\" style = \"text-align: left;\">Int64</th><th title = \"String7\" style = \"text-align: left;\">String7</th><th title = \"String7\" style = \"text-align: left;\">String7</th></tr></thead><tbody><tr><td class = \"rowNumber\" style = \"font-weight: bold; text-align: right;\">1</td><td style = \"text-align: left;\">blood, isolated leukocytes</td><td style = \"text-align: left;\">GSM1569806</td><td style = \"text-align: right;\">1</td><td style = \"text-align: left;\">0.0 Gy</td><td style = \"text-align: left;\">1 hr</td></tr><tr><td class = \"rowNumber\" style = \"font-weight: bold; text-align: right;\">2</td><td style = \"text-align: left;\">blood, isolated leukocytes</td><td style = \"text-align: left;\">GSM1569807</td><td style = \"text-align: right;\">2</td><td style = \"text-align: left;\">0.0 Gy</td><td style = \"text-align: left;\">1 hr</td></tr><tr><td class = \"rowNumber\" style = \"font-weight: bold; text-align: right;\">3</td><td style = \"text-align: left;\">blood, isolated leukocytes</td><td style = \"text-align: left;\">GSM1569808</td><td style = \"text-align: right;\">3</td><td style = \"text-align: left;\">0.0 Gy</td><td style = \"text-align: left;\">1 hr</td></tr><tr><td class = \"rowNumber\" style = \"font-weight: bold; text-align: right;\">4</td><td style = \"text-align: left;\">blood, isolated leukocytes</td><td style = \"text-align: left;\">GSM1569809</td><td style = \"text-align: right;\">4</td><td style = \"text-align: left;\">0.0 Gy</td><td style = \"text-align: left;\">1 hr</td></tr><tr><td class = \"rowNumber\" style = \"font-weight: bold; text-align: right;\">5</td><td style = \"text-align: left;\">blood, isolated leukocytes</td><td style = \"text-align: left;\">GSM1569810</td><td style = \"text-align: right;\">1</td><td style = \"text-align: left;\">0.3 Gy</td><td style = \"text-align: left;\">1 hr</td></tr><tr><td class = \"rowNumber\" style = \"font-weight: bold; text-align: right;\">6</td><td style = \"text-align: left;\">blood, isolated leukocytes</td><td style = \"text-align: left;\">GSM1569811</td><td style = \"text-align: right;\">2</td><td style = \"text-align: left;\">0.3 Gy</td><td style = \"text-align: left;\">1 hr</td></tr><tr><td class = \"rowNumber\" style = \"font-weight: bold; text-align: right;\">7</td><td style = \"text-align: left;\">blood, isolated leukocytes</td><td style = \"text-align: left;\">GSM1569812</td><td style = \"text-align: right;\">3</td><td style = \"text-align: left;\">0.3 Gy</td><td style = \"text-align: left;\">1 hr</td></tr><tr><td class = \"rowNumber\" style = \"font-weight: bold; text-align: right;\">8</td><td style = \"text-align: left;\">blood, isolated leukocytes</td><td style = \"text-align: left;\">GSM1569813</td><td style = \"text-align: right;\">4</td><td style = \"text-align: left;\">0.3 Gy</td><td style = \"text-align: left;\">1 hr</td></tr><tr><td class = \"rowNumber\" style = \"font-weight: bold; text-align: right;\">9</td><td style = \"text-align: left;\">blood, isolated leukocytes</td><td style = \"text-align: left;\">GSM1569814</td><td style = \"text-align: right;\">1</td><td style = \"text-align: left;\">1.5 Gy</td><td style = \"text-align: left;\">1 hr</td></tr><tr><td class = \"rowNumber\" style = \"font-weight: bold; text-align: right;\">10</td><td style = \"text-align: left;\">blood, isolated leukocytes</td><td style = \"text-align: left;\">GSM1569815</td><td style = \"text-align: right;\">2</td><td style = \"text-align: left;\">1.5 Gy</td><td style = \"text-align: left;\">1 hr</td></tr><tr><td class = \"rowNumber\" style = \"font-weight: bold; text-align: right;\">11</td><td style = \"text-align: left;\">blood, isolated leukocytes</td><td style = \"text-align: left;\">GSM1569816</td><td style = \"text-align: right;\">3</td><td style = \"text-align: left;\">1.5 Gy</td><td style = \"text-align: left;\">1 hr</td></tr><tr><td class = \"rowNumber\" style = \"font-weight: bold; text-align: right;\">12</td><td style = \"text-align: left;\">blood, isolated leukocytes</td><td style = \"text-align: left;\">GSM1569817</td><td style = \"text-align: right;\">4</td><td style = \"text-align: left;\">1.5 Gy</td><td style = \"text-align: left;\">1 hr</td></tr><tr><td class = \"rowNumber\" style = \"font-weight: bold; text-align: right;\">13</td><td style = \"text-align: left;\">blood, isolated leukocytes</td><td style = \"text-align: left;\">GSM1569818</td><td style = \"text-align: right;\">1</td><td style = \"text-align: left;\">3.0 Gy</td><td style = \"text-align: left;\">1 hr</td></tr><tr><td class = \"rowNumber\" style = \"font-weight: bold; text-align: right;\">14</td><td style = \"text-align: left;\">blood, isolated leukocytes</td><td style = \"text-align: left;\">GSM1569819</td><td style = \"text-align: right;\">2</td><td style = \"text-align: left;\">3.0 Gy</td><td style = \"text-align: left;\">1 hr</td></tr><tr><td class = \"rowNumber\" style = \"font-weight: bold; text-align: right;\">15</td><td style = \"text-align: left;\">blood, isolated leukocytes</td><td style = \"text-align: left;\">GSM1569820</td><td style = \"text-align: right;\">3</td><td style = \"text-align: left;\">3.0 Gy</td><td style = \"text-align: left;\">1 hr</td></tr><tr><td class = \"rowNumber\" style = \"font-weight: bold; text-align: right;\">16</td><td style = \"text-align: left;\">blood, isolated leukocytes</td><td style = \"text-align: left;\">GSM1569821</td><td style = \"text-align: right;\">4</td><td style = \"text-align: left;\">3.0 Gy</td><td style = \"text-align: left;\">1 hr</td></tr></tbody></table></div>"
      ],
      "text/latex": [
       "\\begin{tabular}{r|ccccc}\n",
       "\t& tissue & GSM\\_ID & volunteer & radiation\\_dose & time\\\\\n",
       "\t\\hline\n",
       "\t& String31 & String15 & Int64 & String7 & String7\\\\\n",
       "\t\\hline\n",
       "\t1 & blood, isolated leukocytes & GSM1569806 & 1 & 0.0 Gy & 1 hr \\\\\n",
       "\t2 & blood, isolated leukocytes & GSM1569807 & 2 & 0.0 Gy & 1 hr \\\\\n",
       "\t3 & blood, isolated leukocytes & GSM1569808 & 3 & 0.0 Gy & 1 hr \\\\\n",
       "\t4 & blood, isolated leukocytes & GSM1569809 & 4 & 0.0 Gy & 1 hr \\\\\n",
       "\t5 & blood, isolated leukocytes & GSM1569810 & 1 & 0.3 Gy & 1 hr \\\\\n",
       "\t6 & blood, isolated leukocytes & GSM1569811 & 2 & 0.3 Gy & 1 hr \\\\\n",
       "\t7 & blood, isolated leukocytes & GSM1569812 & 3 & 0.3 Gy & 1 hr \\\\\n",
       "\t8 & blood, isolated leukocytes & GSM1569813 & 4 & 0.3 Gy & 1 hr \\\\\n",
       "\t9 & blood, isolated leukocytes & GSM1569814 & 1 & 1.5 Gy & 1 hr \\\\\n",
       "\t10 & blood, isolated leukocytes & GSM1569815 & 2 & 1.5 Gy & 1 hr \\\\\n",
       "\t11 & blood, isolated leukocytes & GSM1569816 & 3 & 1.5 Gy & 1 hr \\\\\n",
       "\t12 & blood, isolated leukocytes & GSM1569817 & 4 & 1.5 Gy & 1 hr \\\\\n",
       "\t13 & blood, isolated leukocytes & GSM1569818 & 1 & 3.0 Gy & 1 hr \\\\\n",
       "\t14 & blood, isolated leukocytes & GSM1569819 & 2 & 3.0 Gy & 1 hr \\\\\n",
       "\t15 & blood, isolated leukocytes & GSM1569820 & 3 & 3.0 Gy & 1 hr \\\\\n",
       "\t16 & blood, isolated leukocytes & GSM1569821 & 4 & 3.0 Gy & 1 hr \\\\\n",
       "\\end{tabular}\n"
      ],
      "text/plain": [
       "\u001b[1m16×5 DataFrame\u001b[0m\n",
       "\u001b[1m Row \u001b[0m│\u001b[1m tissue                     \u001b[0m\u001b[1m GSM_ID     \u001b[0m\u001b[1m volunteer \u001b[0m\u001b[1m radiation_dose \u001b[0m\u001b[1m time\u001b[0m ⋯\n",
       "     │\u001b[90m String31                   \u001b[0m\u001b[90m String15   \u001b[0m\u001b[90m Int64     \u001b[0m\u001b[90m String7        \u001b[0m\u001b[90m Stri\u001b[0m ⋯\n",
       "─────┼──────────────────────────────────────────────────────────────────────────\n",
       "   1 │ blood, isolated leukocytes  GSM1569806          1  0.0 Gy          1 hr ⋯\n",
       "   2 │ blood, isolated leukocytes  GSM1569807          2  0.0 Gy          1 hr\n",
       "   3 │ blood, isolated leukocytes  GSM1569808          3  0.0 Gy          1 hr\n",
       "   4 │ blood, isolated leukocytes  GSM1569809          4  0.0 Gy          1 hr\n",
       "   5 │ blood, isolated leukocytes  GSM1569810          1  0.3 Gy          1 hr ⋯\n",
       "   6 │ blood, isolated leukocytes  GSM1569811          2  0.3 Gy          1 hr\n",
       "   7 │ blood, isolated leukocytes  GSM1569812          3  0.3 Gy          1 hr\n",
       "   8 │ blood, isolated leukocytes  GSM1569813          4  0.3 Gy          1 hr\n",
       "   9 │ blood, isolated leukocytes  GSM1569814          1  1.5 Gy          1 hr ⋯\n",
       "  10 │ blood, isolated leukocytes  GSM1569815          2  1.5 Gy          1 hr\n",
       "  11 │ blood, isolated leukocytes  GSM1569816          3  1.5 Gy          1 hr\n",
       "  12 │ blood, isolated leukocytes  GSM1569817          4  1.5 Gy          1 hr\n",
       "  13 │ blood, isolated leukocytes  GSM1569818          1  3.0 Gy          1 hr ⋯\n",
       "  14 │ blood, isolated leukocytes  GSM1569819          2  3.0 Gy          1 hr\n",
       "  15 │ blood, isolated leukocytes  GSM1569820          3  3.0 Gy          1 hr\n",
       "  16 │ blood, isolated leukocytes  GSM1569821          4  3.0 Gy          1 hr\n",
       "\u001b[36m                                                                1 column omitted\u001b[0m"
      ]
     },
     "metadata": {},
     "output_type": "display_data"
    }
   ],
   "source": [
    "GSE64375 = load_GSE(geoID, basepath=master, parser=parse_GSE64375)\n",
    "\n",
    "meta = GSE64375.meta"
   ]
  },
  {
   "cell_type": "code",
   "execution_count": 113,
   "id": "69c284a3",
   "metadata": {},
   "outputs": [
    {
     "data": {
      "text/html": [
       "<div><div style = \"float: left;\"><span>4×2 DataFrame</span></div><div style = \"clear: both;\"></div></div><div class = \"data-frame\" style = \"overflow-x: scroll;\"><table class = \"data-frame\" style = \"margin-bottom: 6px;\"><thead><tr class = \"header\"><th class = \"rowNumber\" style = \"font-weight: bold; text-align: right;\">Row</th><th style = \"text-align: left;\">radiation_dose</th><th style = \"text-align: left;\">count</th></tr><tr class = \"subheader headerLastRow\"><th class = \"rowNumber\" style = \"font-weight: bold; text-align: right;\"></th><th title = \"String7\" style = \"text-align: left;\">String7</th><th title = \"Int64\" style = \"text-align: left;\">Int64</th></tr></thead><tbody><tr><td class = \"rowNumber\" style = \"font-weight: bold; text-align: right;\">1</td><td style = \"text-align: left;\">0.0 Gy</td><td style = \"text-align: right;\">4</td></tr><tr><td class = \"rowNumber\" style = \"font-weight: bold; text-align: right;\">2</td><td style = \"text-align: left;\">0.3 Gy</td><td style = \"text-align: right;\">4</td></tr><tr><td class = \"rowNumber\" style = \"font-weight: bold; text-align: right;\">3</td><td style = \"text-align: left;\">1.5 Gy</td><td style = \"text-align: right;\">4</td></tr><tr><td class = \"rowNumber\" style = \"font-weight: bold; text-align: right;\">4</td><td style = \"text-align: left;\">3.0 Gy</td><td style = \"text-align: right;\">4</td></tr></tbody></table></div>"
      ],
      "text/latex": [
       "\\begin{tabular}{r|cc}\n",
       "\t& radiation\\_dose & count\\\\\n",
       "\t\\hline\n",
       "\t& String7 & Int64\\\\\n",
       "\t\\hline\n",
       "\t1 & 0.0 Gy & 4 \\\\\n",
       "\t2 & 0.3 Gy & 4 \\\\\n",
       "\t3 & 1.5 Gy & 4 \\\\\n",
       "\t4 & 3.0 Gy & 4 \\\\\n",
       "\\end{tabular}\n"
      ],
      "text/plain": [
       "\u001b[1m4×2 DataFrame\u001b[0m\n",
       "\u001b[1m Row \u001b[0m│\u001b[1m radiation_dose \u001b[0m\u001b[1m count \u001b[0m\n",
       "     │\u001b[90m String7        \u001b[0m\u001b[90m Int64 \u001b[0m\n",
       "─────┼───────────────────────\n",
       "   1 │ 0.0 Gy              4\n",
       "   2 │ 0.3 Gy              4\n",
       "   3 │ 1.5 Gy              4\n",
       "   4 │ 3.0 Gy              4"
      ]
     },
     "metadata": {},
     "output_type": "display_data"
    }
   ],
   "source": [
    "DataFrames.combine(groupby(meta, :radiation_dose), nrow => :count)"
   ]
  },
  {
   "cell_type": "code",
   "execution_count": null,
   "id": "8068a9f1",
   "metadata": {},
   "outputs": [],
   "source": []
  }
 ],
 "metadata": {
  "kernelspec": {
   "display_name": "Julia 1.11.5",
   "language": "julia",
   "name": "julia-1.11"
  },
  "language_info": {
   "file_extension": ".jl",
   "mimetype": "application/julia",
   "name": "julia",
   "version": "1.11.5"
  }
 },
 "nbformat": 4,
 "nbformat_minor": 5
}
